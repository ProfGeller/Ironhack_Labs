{
 "cells": [
  {
   "cell_type": "markdown",
   "id": "elegant-marker",
   "metadata": {},
   "source": [
    "# Import libraries"
   ]
  },
  {
   "cell_type": "code",
   "execution_count": 71,
   "id": "available-netherlands",
   "metadata": {},
   "outputs": [],
   "source": [
    "import requests\n",
    "import pandas as pd\n",
    "from bs4 import BeautifulSoup"
   ]
  },
  {
   "cell_type": "markdown",
   "id": "comprehensive-leeds",
   "metadata": {},
   "source": [
    "# Parse HTML Page"
   ]
  },
  {
   "cell_type": "code",
   "execution_count": 89,
   "id": "virgin-database",
   "metadata": {},
   "outputs": [],
   "source": [
    "url = 'https://www.billboard.com/charts/hot-100'\n",
    "response = requests.get(url)\n",
    "soup = BeautifulSoup(response.content, 'html.parser')"
   ]
  },
  {
   "cell_type": "code",
   "execution_count": 90,
   "id": "christian-polymer",
   "metadata": {},
   "outputs": [
    {
     "data": {
      "text/plain": [
       "'Leave The Door Open'"
      ]
     },
     "execution_count": 90,
     "metadata": {},
     "output_type": "execute_result"
    }
   ],
   "source": [
    "soup.select('span.chart-element__information__song')[1].text"
   ]
  },
  {
   "cell_type": "markdown",
   "id": "nutritional-strategy",
   "metadata": {},
   "source": [
    "# Extract Data"
   ]
  },
  {
   "cell_type": "code",
   "execution_count": 69,
   "id": "rolled-detroit",
   "metadata": {},
   "outputs": [],
   "source": [
    "#song_names\n",
    "song_lst = []\n",
    "song_names = soup.select('span.chart-element__information__song')\n",
    "\n",
    "for song in song_names:\n",
    "    song_lst.append(song.text)"
   ]
  },
  {
   "cell_type": "code",
   "execution_count": 80,
   "id": "sophisticated-reply",
   "metadata": {},
   "outputs": [],
   "source": [
    "#artist_names\n",
    "artist_lst = []\n",
    "artist_names = soup.select('span.chart-element__information__artist')\n",
    "\n",
    "for artist in artist_names:\n",
    "    artist_lst.append(artist.text)"
   ]
  },
  {
   "cell_type": "code",
   "execution_count": 91,
   "id": "handled-orientation",
   "metadata": {},
   "outputs": [],
   "source": [
    "#ranking\n",
    "ranking_lst = []\n",
    "ranking_names = soup.select('span.chart-element__rank__number')\n",
    "\n",
    "for rank in ranking_names:\n",
    "    ranking_lst.append(rank.text)"
   ]
  },
  {
   "cell_type": "markdown",
   "id": "lovely-greek",
   "metadata": {},
   "source": [
    "# Convert to DataFrame and save"
   ]
  },
  {
   "cell_type": "code",
   "execution_count": 95,
   "id": "oriented-wallace",
   "metadata": {},
   "outputs": [],
   "source": [
    "billboard_top = pd.DataFrame({'rank':ranking_lst, 'artist': artist_lst, 'song': song_lst})"
   ]
  },
  {
   "cell_type": "code",
   "execution_count": 99,
   "id": "italic-updating",
   "metadata": {},
   "outputs": [
    {
     "data": {
      "text/html": [
       "<div>\n",
       "<style scoped>\n",
       "    .dataframe tbody tr th:only-of-type {\n",
       "        vertical-align: middle;\n",
       "    }\n",
       "\n",
       "    .dataframe tbody tr th {\n",
       "        vertical-align: top;\n",
       "    }\n",
       "\n",
       "    .dataframe thead th {\n",
       "        text-align: right;\n",
       "    }\n",
       "</style>\n",
       "<table border=\"1\" class=\"dataframe\">\n",
       "  <thead>\n",
       "    <tr style=\"text-align: right;\">\n",
       "      <th></th>\n",
       "      <th>rank</th>\n",
       "      <th>artist</th>\n",
       "      <th>song</th>\n",
       "    </tr>\n",
       "  </thead>\n",
       "  <tbody>\n",
       "    <tr>\n",
       "      <th>0</th>\n",
       "      <td>1</td>\n",
       "      <td>Polo G</td>\n",
       "      <td>Rapstar</td>\n",
       "    </tr>\n",
       "    <tr>\n",
       "      <th>1</th>\n",
       "      <td>2</td>\n",
       "      <td>Silk Sonic (Bruno Mars &amp; Anderson .Paak)</td>\n",
       "      <td>Leave The Door Open</td>\n",
       "    </tr>\n",
       "    <tr>\n",
       "      <th>2</th>\n",
       "      <td>3</td>\n",
       "      <td>Justin Bieber Featuring Daniel Caesar &amp; Giveon</td>\n",
       "      <td>Peaches</td>\n",
       "    </tr>\n",
       "    <tr>\n",
       "      <th>3</th>\n",
       "      <td>4</td>\n",
       "      <td>Lil Nas X</td>\n",
       "      <td>Montero (Call Me By Your Name)</td>\n",
       "    </tr>\n",
       "    <tr>\n",
       "      <th>4</th>\n",
       "      <td>5</td>\n",
       "      <td>Dua Lipa Featuring DaBaby</td>\n",
       "      <td>Levitating</td>\n",
       "    </tr>\n",
       "  </tbody>\n",
       "</table>\n",
       "</div>"
      ],
      "text/plain": [
       "  rank                                          artist  \\\n",
       "0    1                                          Polo G   \n",
       "1    2        Silk Sonic (Bruno Mars & Anderson .Paak)   \n",
       "2    3  Justin Bieber Featuring Daniel Caesar & Giveon   \n",
       "3    4                                       Lil Nas X   \n",
       "4    5                       Dua Lipa Featuring DaBaby   \n",
       "\n",
       "                             song  \n",
       "0                         Rapstar  \n",
       "1             Leave The Door Open  \n",
       "2                         Peaches  \n",
       "3  Montero (Call Me By Your Name)  \n",
       "4                      Levitating  "
      ]
     },
     "execution_count": 99,
     "metadata": {},
     "output_type": "execute_result"
    }
   ],
   "source": [
    "billboard_top.head()"
   ]
  },
  {
   "cell_type": "code",
   "execution_count": 100,
   "id": "liquid-knight",
   "metadata": {},
   "outputs": [],
   "source": [
    "billboard_top.to_csv('billboard_top.csv')"
   ]
  }
 ],
 "metadata": {
  "kernelspec": {
   "display_name": "Python 3",
   "language": "python",
   "name": "python3"
  },
  "language_info": {
   "codemirror_mode": {
    "name": "ipython",
    "version": 3
   },
   "file_extension": ".py",
   "mimetype": "text/x-python",
   "name": "python",
   "nbconvert_exporter": "python",
   "pygments_lexer": "ipython3",
   "version": "3.9.2"
  },
  "toc": {
   "base_numbering": 1,
   "nav_menu": {},
   "number_sections": true,
   "sideBar": true,
   "skip_h1_title": false,
   "title_cell": "Table of Contents",
   "title_sidebar": "Contents",
   "toc_cell": false,
   "toc_position": {},
   "toc_section_display": true,
   "toc_window_display": false
  }
 },
 "nbformat": 4,
 "nbformat_minor": 5
}
