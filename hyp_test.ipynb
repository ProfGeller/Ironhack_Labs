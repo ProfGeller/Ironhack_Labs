{
 "cells": [
  {
   "cell_type": "code",
   "execution_count": 2,
   "id": "valid-score",
   "metadata": {},
   "outputs": [],
   "source": [
    "from scipy.stats import ttest_1samp\n",
    "from scipy.stats import norm\n",
    "import math\n",
    "import scipy.stats\n",
    "import pandas as pd"
   ]
  },
  {
   "cell_type": "markdown",
   "id": "forty-rubber",
   "metadata": {},
   "source": [
    "# Testing New Machine ( T-Test ), by Hand"
   ]
  },
  {
   "cell_type": "code",
   "execution_count": 8,
   "id": "featured-gender",
   "metadata": {},
   "outputs": [],
   "source": [
    "md = pd.read_csv('machine.csv', sep=';')"
   ]
  },
  {
   "cell_type": "code",
   "execution_count": 9,
   "id": "dedicated-laundry",
   "metadata": {
    "scrolled": true
   },
   "outputs": [
    {
     "data": {
      "text/html": [
       "<div>\n",
       "<style scoped>\n",
       "    .dataframe tbody tr th:only-of-type {\n",
       "        vertical-align: middle;\n",
       "    }\n",
       "\n",
       "    .dataframe tbody tr th {\n",
       "        vertical-align: top;\n",
       "    }\n",
       "\n",
       "    .dataframe thead th {\n",
       "        text-align: right;\n",
       "    }\n",
       "</style>\n",
       "<table border=\"1\" class=\"dataframe\">\n",
       "  <thead>\n",
       "    <tr style=\"text-align: right;\">\n",
       "      <th></th>\n",
       "      <th>New machine</th>\n",
       "      <th>Old machine</th>\n",
       "    </tr>\n",
       "  </thead>\n",
       "  <tbody>\n",
       "    <tr>\n",
       "      <th>0</th>\n",
       "      <td>42.1</td>\n",
       "      <td>42.7</td>\n",
       "    </tr>\n",
       "    <tr>\n",
       "      <th>1</th>\n",
       "      <td>41.0</td>\n",
       "      <td>43.6</td>\n",
       "    </tr>\n",
       "    <tr>\n",
       "      <th>2</th>\n",
       "      <td>41.0</td>\n",
       "      <td>43.8</td>\n",
       "    </tr>\n",
       "    <tr>\n",
       "      <th>3</th>\n",
       "      <td>41.8</td>\n",
       "      <td>43.3</td>\n",
       "    </tr>\n",
       "    <tr>\n",
       "      <th>4</th>\n",
       "      <td>42.4</td>\n",
       "      <td>42.5</td>\n",
       "    </tr>\n",
       "    <tr>\n",
       "      <th>5</th>\n",
       "      <td>42.8</td>\n",
       "      <td>43.5</td>\n",
       "    </tr>\n",
       "    <tr>\n",
       "      <th>6</th>\n",
       "      <td>43.2</td>\n",
       "      <td>43.1</td>\n",
       "    </tr>\n",
       "    <tr>\n",
       "      <th>7</th>\n",
       "      <td>42.3</td>\n",
       "      <td>41.7</td>\n",
       "    </tr>\n",
       "    <tr>\n",
       "      <th>8</th>\n",
       "      <td>41.8</td>\n",
       "      <td>44.0</td>\n",
       "    </tr>\n",
       "    <tr>\n",
       "      <th>9</th>\n",
       "      <td>42.7</td>\n",
       "      <td>44.1</td>\n",
       "    </tr>\n",
       "  </tbody>\n",
       "</table>\n",
       "</div>"
      ],
      "text/plain": [
       "   New machine  Old machine\n",
       "0         42.1         42.7\n",
       "1         41.0         43.6\n",
       "2         41.0         43.8\n",
       "3         41.8         43.3\n",
       "4         42.4         42.5\n",
       "5         42.8         43.5\n",
       "6         43.2         43.1\n",
       "7         42.3         41.7\n",
       "8         41.8         44.0\n",
       "9         42.7         44.1"
      ]
     },
     "execution_count": 9,
     "metadata": {},
     "output_type": "execute_result"
    }
   ],
   "source": [
    "md.head(20)"
   ]
  },
  {
   "cell_type": "code",
   "execution_count": 10,
   "id": "active-rachel",
   "metadata": {},
   "outputs": [],
   "source": [
    "# h0: sample_new - sample_old >= w\n",
    "# h1: sample_new - sample_old < w\n",
    "\n",
    "# -> left sided t-test, with two umpaired samples"
   ]
  },
  {
   "cell_type": "code",
   "execution_count": 11,
   "id": "canadian-pixel",
   "metadata": {},
   "outputs": [],
   "source": [
    "# calculating parameter\n",
    "sample_new_mean = md['New machine'].mean()\n",
    "sample_old_mean = md['Old machine'].mean()\n",
    "sample_new_var = md['New machine'].var()\n",
    "sample_old_var = md['Old machine'].var()\n",
    "m = len(md.index)\n",
    "n = len(md.index)\n",
    "SEM = math.sqrt(sample_new_var / m + sample_old_var / n)"
   ]
  },
  {
   "cell_type": "code",
   "execution_count": 12,
   "id": "buried-poland",
   "metadata": {},
   "outputs": [
    {
     "data": {
      "text/plain": [
       "0.729459465022637"
      ]
     },
     "execution_count": 12,
     "metadata": {},
     "output_type": "execute_result"
    }
   ],
   "source": [
    "sample_new_std = md['New machine'].std()\n",
    "sample_new_std"
   ]
  },
  {
   "cell_type": "code",
   "execution_count": 13,
   "id": "beginning-expansion",
   "metadata": {},
   "outputs": [
    {
     "data": {
      "text/plain": [
       "0.7498888806572157"
      ]
     },
     "execution_count": 13,
     "metadata": {},
     "output_type": "execute_result"
    }
   ],
   "source": [
    "sample_old_std = md['Old machine'].std()\n",
    "sample_old_std"
   ]
  },
  {
   "cell_type": "code",
   "execution_count": 14,
   "id": "built-detection",
   "metadata": {},
   "outputs": [
    {
     "data": {
      "text/plain": [
       "42.11"
      ]
     },
     "execution_count": 14,
     "metadata": {},
     "output_type": "execute_result"
    }
   ],
   "source": [
    "sample_new_mean"
   ]
  },
  {
   "cell_type": "code",
   "execution_count": 15,
   "id": "advised-provider",
   "metadata": {},
   "outputs": [
    {
     "data": {
      "text/plain": [
       "43.230000000000004"
      ]
     },
     "execution_count": 15,
     "metadata": {},
     "output_type": "execute_result"
    }
   ],
   "source": [
    "sample_old_mean"
   ]
  },
  {
   "cell_type": "code",
   "execution_count": 16,
   "id": "empty-moldova",
   "metadata": {},
   "outputs": [
    {
     "data": {
      "text/plain": [
       "0.33082388735465335"
      ]
     },
     "execution_count": 16,
     "metadata": {},
     "output_type": "execute_result"
    }
   ],
   "source": [
    "SEM"
   ]
  },
  {
   "cell_type": "code",
   "execution_count": 17,
   "id": "rolled-rating",
   "metadata": {},
   "outputs": [
    {
     "data": {
      "text/plain": [
       "-3.3854870908983976"
      ]
     },
     "execution_count": 17,
     "metadata": {},
     "output_type": "execute_result"
    }
   ],
   "source": [
    "# calculating test statistic, for left sided t-test with two samples\n",
    "statistic = (sample_new_mean - sample_old_mean) / (SEM)\n",
    "statistic"
   ]
  },
  {
   "cell_type": "code",
   "execution_count": 19,
   "id": "piano-resistance",
   "metadata": {},
   "outputs": [
    {
     "data": {
      "text/plain": [
       "-1.734063606617536"
      ]
     },
     "execution_count": 19,
     "metadata": {},
     "output_type": "execute_result"
    }
   ],
   "source": [
    "# critical value\n",
    "critical_value = scipy.stats.t.ppf(q=0.05,df=m+n-2)\n",
    "critical_value"
   ]
  },
  {
   "cell_type": "code",
   "execution_count": 20,
   "id": "ideal-lincoln",
   "metadata": {},
   "outputs": [],
   "source": [
    "# critical area\n",
    "# k: - infinite, -1,734\n",
    "# N is element of K\n",
    "# H0 can be rejected"
   ]
  },
  {
   "cell_type": "code",
   "execution_count": 22,
   "id": "metropolitan-papua",
   "metadata": {},
   "outputs": [
    {
     "data": {
      "text/plain": [
       "42.53164303693282"
      ]
     },
     "execution_count": 22,
     "metadata": {},
     "output_type": "execute_result"
    }
   ],
   "source": [
    "# confidence intervall, upper limit\n",
    "absoluteZ = abs(scipy.stats.t.ppf(q=0.05,df=m+n-2))\n",
    "upperCI = sample_new_mean + absoluteZ*math.sqrt(sample_new_var)/math.sqrt(n-1)\n",
    "upperCI"
   ]
  },
  {
   "cell_type": "code",
   "execution_count": 23,
   "id": "sexual-debut",
   "metadata": {},
   "outputs": [
    {
     "data": {
      "text/plain": [
       "41.68835696306718"
      ]
     },
     "execution_count": 23,
     "metadata": {},
     "output_type": "execute_result"
    }
   ],
   "source": [
    "# confidence intervalll, lower limit\n",
    "lowerCI = sample_new_mean - absoluteZ*math.sqrt(sample_new_var)/math.sqrt(n-1)\n",
    "lowerCI"
   ]
  },
  {
   "cell_type": "markdown",
   "id": "vocational-syndicate",
   "metadata": {},
   "source": [
    "## Checking Results with scipy"
   ]
  },
  {
   "cell_type": "code",
   "execution_count": 24,
   "id": "adult-steering",
   "metadata": {
    "scrolled": true
   },
   "outputs": [
    {
     "data": {
      "text/plain": [
       "Ttest_indResult(statistic=-3.385487090898397, pvalue=0.0032957327613441804)"
      ]
     },
     "execution_count": 24,
     "metadata": {},
     "output_type": "execute_result"
    }
   ],
   "source": [
    "scipy.stats.ttest_ind(md['New machine'], md['Old machine'])"
   ]
  },
  {
   "cell_type": "code",
   "execution_count": null,
   "id": "behind-comparative",
   "metadata": {},
   "outputs": [],
   "source": [
    "# calculation correct, result is considered statistically significant (p-value)"
   ]
  }
 ],
 "metadata": {
  "kernelspec": {
   "display_name": "Python 3",
   "language": "python",
   "name": "python3"
  },
  "language_info": {
   "codemirror_mode": {
    "name": "ipython",
    "version": 3
   },
   "file_extension": ".py",
   "mimetype": "text/x-python",
   "name": "python",
   "nbconvert_exporter": "python",
   "pygments_lexer": "ipython3",
   "version": "3.9.2"
  }
 },
 "nbformat": 4,
 "nbformat_minor": 5
}
